{
 "cells": [
  {
   "cell_type": "markdown",
   "metadata": {},
   "source": [
    "# Calculator Bool Exam\n",
    "\n",
    "|Entrada| Salida |\n",
    "|:-:|:-:|\n",
    "|x := 2;||\n",
    "|print x;|Resultado es verdadero|\n",
    "|y := 0 and x; | |\n",
    "|print nor y;| Resultado es verdadero|\n",
    "|print x and not y;| Resultado es verdader|\n",
    "|print not (x and not y) ; | Resultado es falso |\n",
    "| x:= not x; | |\n",
    "|z:= true or not (x and not y); ||\n",
    "|w := (3 > 5)  and (z < 4);||\n",
    "|print 4 == (w < 3);| Resultado es falso |\n",
    "\n"
   ]
  },
  {
   "cell_type": "markdown",
   "metadata": {},
   "source": [
    "## Grammar and Traduction scheme"
   ]
  },
  {
   "cell_type": "markdown",
   "metadata": {},
   "source": [
    "```\n",
    "input -> `print` expr {escribe(expr.s)};\n",
    "input -> asig;\n",
    "asig -> ID `=` expr {table[ID.lexval] = expr.s}\n",
    "expr -> exprOR `or` expr_1 {exprOR.s || expr_1.s}\n",
    "expr -> exprOR {expr.s = exprOR.s}\n",
    "oxprOR -> exprAND `and` exprOR_1 {exprAND.s && exprOR_1.s}\n",
    "exprAND -> exprOR {exprAND.s = exprOR.s}\n",
    "exprAND -> boolean {exprAND.s = boolean.s}\n",
    "boolean -> not boolean_1 {boolean.s = !boolean_1.s}\n",
    "boolean -> CBOOLEAN {boolean.s = CBOOLEAN}\n",
    "boolean -> ID {boolean.s = table[ID.Lexval]}\n",
    "boolean -> (expr) {boolean.s = expr.s}\n",
    "```"
   ]
  }
 ],
 "metadata": {
  "language_info": {
   "name": "python",
   "nbconvert_exporter": "python"
  },
  "orig_nbformat": 4
 },
 "nbformat": 4,
 "nbformat_minor": 2
}