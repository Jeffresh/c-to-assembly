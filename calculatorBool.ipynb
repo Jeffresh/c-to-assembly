{
 "cells": [
  {
   "cell_type": "markdown",
   "metadata": {},
   "source": [
    "# Calculator Bool Exam\n",
    "\n",
    "|Entrada| Salida |\n",
    "|:-:|:-:|\n",
    "|x := 2;||\n",
    "|print x;|Resultado es verdadero|\n",
    "|y := 0 and x; | |\n",
    "|print nor y;| Resultado es verdadero|\n",
    "|print x and not y;| Resultado es verdader|\n",
    "|print not (x and not y) ; | Resultado es falso |\n",
    "| x:= not x; | |\n",
    "|z:= true or not (x and not y); ||\n",
    "|w := (3 > 5)  and (z < 4);||\n",
    "|print 4 == (w < 3);| Resultado es falso |\n",
    "\n"
   ]
  },
  {
   "cell_type": "markdown",
   "metadata": {},
   "source": [
    "## Grammar and Traduction scheme"
   ]
  },
  {
   "cell_type": "markdown",
   "metadata": {},
   "source": [
    "```\n",
    "input -> `print` expr {escribe(expr.s)};\n",
    "input -> asig;\n",
    "\n",
    "asig -> ID `=` expr {table[ID.lexval] = expr.s}\n",
    "\n",
    "expr -> expr_1 `or` exprOR {expr_1.s || exprOR.s}\n",
    "expr -> exprOR {expr.s = exprOR.s}\n",
    "\n",
    "exprOR -> exprOR_1 `and` exprAND {exprOR_1.s && exprAND.s}\n",
    "exprOR -> exprAND {exprOR.s = exprAND.s}\n",
    "\n",
    "exprAND -> boolean {exprAND.s = boolean.s}\n",
    "\n",
    "boolean -> not boolean_1 {boolean.s = !boolean_1.s}\n",
    "boolean -> CBOOLEAN {boolean.s = CBOOLEAN}\n",
    "boolean -> ID {boolean.s = table[ID.Lexval]}\n",
    "boolean -> (expr) {boolean.s = expr.s}\n",
    "```"
   ]
  },
  {
   "cell_type": "markdown",
   "metadata": {},
   "source": [
    "## L-recursive to R-recursive\n",
    "\n",
    "```\n",
    "input -> `print` expr {escribe(expr.s)};\n",
    "input -> asig;\n",
    "asig -> ID `=` expr {table[ID.lexval] = expr.s}\n",
    "\n",
    "expr -> exprOR expr'\n",
    "expr' -> `||` exprOR \n",
    "expr' -> e\n",
    "\n",
    "exprOR -> exprAND exprOR'\n",
    "exprOR' -> `and` exprAND expOR'\n",
    "exprOR' -> e\n",
    "\n",
    "boolean -> not boolean\n",
    "exprAnd -> boolean\n",
    "boolean -> CBOOL\n",
    "boolean -> ID\n",
    "boolean -> `(`expr`)` \n",
    "\n",
    "```"
   ]
  },
  {
   "cell_type": "markdown",
   "metadata": {},
   "source": [
    "## First and Second Set"
   ]
  },
  {
   "cell_type": "markdown",
   "metadata": {},
   "source": [
    "### First set\n",
    "\n",
    "|First | Elementos|\n",
    "|:-:|:-:|\n",
    "|boolean| {CBOOL, 'ID', '(', 'not'} |\n",
    "|exprAND| {CBOOL, 'ID', '(', 'not'} |\n",
    "|exprOR | {CBOOL, 'ID', '(', 'not'} |\n",
    "|exprOR' | { 'and' , e, } |\n",
    "|expr' | {`or`, e} | \n",
    "|expr | {CBOOL, 'ID', '(', 'not'} |\n",
    "| asig | {'ID'} |\n",
    "| input | {'ID', 'print'} |\n"
   ]
  },
  {
   "cell_type": "markdown",
   "metadata": {},
   "source": [
    "### Second set\n",
    "\n",
    "|Second| Elementos|\n",
    "|:-:|:-:|\n",
    "|input |{$}|\n",
    "|asig|';'|\n",
    "|expr|';'|\n",
    "|expr'|';'|\n",
    "|exprOR|';' |"
   ]
  },
  {
   "cell_type": "code",
   "execution_count": null,
   "metadata": {},
   "outputs": [],
   "source": []
  }
 ],
 "metadata": {
  "language_info": {
   "name": "python",
   "nbconvert_exporter": "python"
  },
  "orig_nbformat": 4
 },
 "nbformat": 4,
 "nbformat_minor": 2
}