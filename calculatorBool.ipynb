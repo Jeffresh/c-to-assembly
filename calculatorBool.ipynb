{
 "cells": [
  {
   "cell_type": "markdown",
   "metadata": {},
   "source": [
    "# Calculator Bool Exam\n",
    "\n",
    "|Entrada| Salida |\n",
    "|:-:|:-:|\n",
    "|x := 2;||\n",
    "|print x;|Resultado es verdadero|\n",
    "|y := 0 and x; | |\n",
    "|print nor y;| Resultado es verdadero|\n",
    "|print x and not y;| Resultado es verdader|\n",
    "|print not (x and not y) ; | Resultado es falso |\n",
    "| x:= not x; | |\n",
    "|z:= true or not (x and not y); ||\n",
    "|w := (3 > 5)  and (z < 4);||\n",
    "|print 4 == (w < 3);| Resultado es falso |\n",
    "\n"
   ]
  },
  {
   "cell_type": "markdown",
   "metadata": {},
   "source": [
    "## Grammar and Traduction scheme"
   ]
  },
  {
   "cell_type": "markdown",
   "metadata": {},
   "source": [
    "```\n",
    "input -> `print` expr {escribe(expr.s)};\n",
    "input -> asig;\n",
    "\n",
    "asig -> ID `=` expr {table[ID.lexval] = expr.s}\n",
    "\n",
    "expr -> expr_1 `or` exprOR { espr.s = expr_1.s || exprOR.s}\n",
    "expr -> exprOR {expr.s = exprOR.s}\n",
    "\n",
    "exprOR -> exprOR_1 `and` exprAND { exprOR.s = exprOR_1.s && exprAND.s}\n",
    "exprOR -> exprAND {exprOR.s = exprAND.s}\n",
    "\n",
    "exprAND -> boolean {exprAND.s = boolean.s}\n",
    "\n",
    "boolean -> not boolean_1 {boolean.s = !boolean_1.s}\n",
    "boolean -> CBOOLEAN {boolean.s = CBOOLEAN}\n",
    "boolean -> ID {boolean.s = table[ID.Lexval]}\n",
    "boolean -> (expr) {boolean.s = expr.s}\n",
    "```"
   ]
  },
  {
   "cell_type": "markdown",
   "metadata": {},
   "source": [
    "## L-recursive to R-recursive\n",
    "\n",
    "```\n",
    "input -> `print` expr {escribe(expr.s)};\n",
    "input -> asig;\n",
    "asig -> ID `=` expr {table[ID.lexval] = expr.s}\n",
    "\n",
    "expr -> exprOR {expr'.h = exprOR.s} expr' {expr.s = expr'.s}\n",
    "expr' -> `||` exprOR {expr'_1.h = expr'.h or exprOR.s}  expr'_1 {expr'.s = expr'_1.s}\n",
    "expr' -> e {expr'.s = expr'.h}\n",
    "\n",
    "exprOR -> exprAND {exprOR'.h = exprAND.s} exprOR' {exprOR.s = exprOR'.s}\n",
    "exprOR' -> `and` exprAND {exprOR'_1.h = exprOR'.h and exprAND.s} expOR'_1 {exprOR'.s = exprOR'_1.s}\n",
    "exprOR' -> e {exprOR'.s = exprOR'.h}\n",
    "exprAnd -> boolean {exprOR'.s = boolean.s}\n",
    "\n",
    "boolean -> not boolean_1 {boolean.s = !bolean_1.s}\n",
    "boolean -> CBOOL {boolean.s = CBOOL.lexval}\n",
    "boolean -> ID {boolean.s = table[ID.lexval]}\n",
    "boolean -> `(`expr`)` {boolean.s = expr.s}\n",
    "\n",
    "```"
   ]
  },
  {
   "cell_type": "markdown",
   "metadata": {},
   "source": [
    "## First and Follow Set"
   ]
  },
  {
   "cell_type": "markdown",
   "metadata": {},
   "source": [
    "### First set\n",
    "\n",
    "|First | Elementos|\n",
    "|:-:|:-:|\n",
    "|boolean| {CBOOL, 'ID', '(', 'not'} |\n",
    "|exprAND| {CBOOL, 'ID', '(', 'not'} |\n",
    "|exprOR | {CBOOL, 'ID', '(', 'not'} |\n",
    "|exprOR' | { 'and' , e, } |\n",
    "|expr' | {`or`, e} | \n",
    "|expr | {CBOOL, 'ID', '(', 'not'} |\n",
    "| asig | {'ID'} |\n",
    "| input | {'ID', 'print'} |\n"
   ]
  },
  {
   "cell_type": "markdown",
   "metadata": {},
   "source": [
    "### Follow set\n",
    "\n",
    "|Follow| Elementos|\n",
    "|:-:|:-:|\n",
    "|input |{$}|\n",
    "|asig|';' '\\)'|\n",
    "|expr|';' '\\)'|\n",
    "|expr'|';' '\\)' |\n",
    "|exprOR|'or' ';' '\\)' |\n",
    "|exprOR'| 'or' ';' '\\)' |\n",
    "|exprAND| 'and', 'or' ';' '\\)' |\n",
    "|boolean | 'and' 'or' ';' '\\)' |"
   ]
  },
  {
   "cell_type": "markdown",
   "metadata": {},
   "source": [
    "## Translation scheme AST\n",
    "\n",
    "```\n",
    "input -> `print` expr {expr.s.escribe()};\n",
    "input -> asig;\n",
    "asig -> ID `=` expr {BinaryOpNode(=, NodeID(ID.lexval), expr.s)}\n",
    "\n",
    "expr -> exprOR {expr'.h = exprOR.s} expr' {expr.s = expr'.s}\n",
    "expr' -> `||` exprOR {expr'_1.h = BinaryOpNode('or', expr'.h, exprOR.s)}  expr'_1 {expr'.s = expr'_1.s}\n",
    "expr' -> e {expr'.s = expr'.h}\n",
    "\n",
    "exprOR -> exprAND {exprOR'.h = exprAND.s} exprOR' {exprOR.s = exprOR'.s}\n",
    "exprOR' -> `and` exprAND {exprOR'_1.h = BinaryOpNode('and', exprOR'.h, exprAND.s)} expOR'_1 {exprOR'.s = exprOR'_1.s}\n",
    "exprOR' -> e {exprOR'.s = exprOR'.h}\n",
    "exprAnd -> boolean {exprOR'.s = boolean.s}\n",
    "\n",
    "boolean -> not boolean_1 {boolean.s = UnaryOpNode('!', bolean_1.s)}\n",
    "boolean -> CBOOL {boolean.s = NodeBool(CBOOL.lexval)}\n",
    "boolean -> ID {boolean.s = NodeID(ID.lexval)}\n",
    "boolean -> `(`expr`)` {boolean.s = expr.s}\n",
    "\n",
    "```"
   ]
  },
  {
   "cell_type": "markdown",
   "metadata": {},
   "source": [
    "## Lexer\n"
   ]
  },
  {
   "cell_type": "code",
   "execution_count": 17,
   "metadata": {},
   "outputs": [],
   "source": [
    "from sly import Lexer\n",
    "\n",
    "class BoolLexer(Lexer):\n",
    "\n",
    "    ignore = ' \\t'\n",
    "    tokens = {\n",
    "        CBOOL, ID, OR, AND, NOT, PRINT\n",
    "    }\n",
    "\n",
    "    literals = {\n",
    "        '=', ';', '(', ')',\n",
    "    }\n",
    "\n",
    "    CNUM\n",
    "\n",
    "    # regular expresions\n",
    "    ID = r'[a-zA-Z_][a-zA-Z0-9]*'\n",
    "    ID['false'] = CBOOL\n",
    "    ID['true'] = CBOOL\n",
    "    ID['OR'] = OR \n",
    "    ID['AND'] = AND\n",
    "    ID['print'] = PRINT\n",
    "    ID['not'] = NOT \n",
    "\n",
    "    # Auxiliar functions\n",
    "    @_(r'\\n+')\n",
    "    def newline(self, t):\n",
    "        self.lineno += t.value.count('\\n')\n",
    "\n",
    "    def error(self, t):\n",
    "        print(\"line {}: Bad character {}\".format(self.lineno, t.value[0]))\n",
    "        self.index += 1\n"
   ]
  },
  {
   "cell_type": "markdown",
   "metadata": {},
   "source": [
    "## Prueba Lexer\n"
   ]
  },
  {
   "cell_type": "code",
   "execution_count": 21,
   "metadata": {},
   "outputs": [
    {
     "name": "stdout",
     "output_type": "stream",
     "text": [
      "Token(type='ID', value='z', lineno=1, index=0)\n",
      "Token(type='=', value='=', lineno=1, index=2)\n",
      "Token(type='CBOOL', value='true', lineno=1, index=4)\n",
      "Token(type='OR', value='OR', lineno=1, index=9)\n",
      "Token(type='ID', value='NOT', lineno=1, index=12)\n",
      "Token(type='(', value='(', lineno=1, index=16)\n",
      "Token(type='ID', value='x', lineno=1, index=17)\n",
      "Token(type='ID', value='and', lineno=1, index=19)\n",
      "Token(type='NOT', value='not', lineno=1, index=23)\n",
      "Token(type='ID', value='y', lineno=1, index=27)\n",
      "Token(type=')', value=')', lineno=1, index=28)\n",
      "Token(type=';', value=';', lineno=1, index=29)\n",
      "************************************************************\n",
      "Token(type='ID', value='w', lineno=1, index=0)\n",
      "Token(type='=', value='=', lineno=1, index=2)\n",
      "Token(type='(', value='(', lineno=1, index=4)\n",
      "Token(type='CBOOL', value='true', lineno=1, index=5)\n",
      "Token(type='OR', value='OR', lineno=1, index=10)\n",
      "Token(type='CBOOL', value='false', lineno=1, index=14)\n",
      "Token(type=')', value=')', lineno=1, index=19)\n",
      "Token(type='ID', value='and', lineno=1, index=21)\n",
      "Token(type='(', value='(', lineno=1, index=25)\n",
      "Token(type='CBOOL', value='true', lineno=1, index=26)\n",
      "Token(type='ID', value='and', lineno=1, index=31)\n",
      "Token(type='CBOOL', value='false', lineno=1, index=35)\n",
      "Token(type=')', value=')', lineno=1, index=40)\n",
      "Token(type=';', value=';', lineno=1, index=41)\n",
      "************************************************************\n"
     ]
    }
   ],
   "source": [
    "if __name__ == '__main__':\n",
    "    data = ['z = true OR NOT (x and not y);',\n",
    "            'w = (true OR  false) and (true and false);', ]\n",
    "\n",
    "    lexer = BoolLexer()\n",
    "    for sentence in data:\n",
    "        for token in lexer.tokenize(sentence):\n",
    "            \tprint(token)\n",
    "        print(\"*\" * 60)\n"
   ]
  },
  {
   "cell_type": "markdown",
   "metadata": {},
   "source": [
    "## Nodes\n"
   ]
  },
  {
   "cell_type": "code",
   "execution_count": null,
   "metadata": {},
   "outputs": [],
   "source": [
    "\n",
    "var_tab = {}\n",
    "next_token = None \n",
    "index = 0 \n",
    "tokens = None \n",
    "token_list = None\n",
    "\n",
    "class Node():\n",
    "    def write():\n",
    "        pass\n",
    "\n",
    "class NodeType(Node):\n",
    "    def __init__(self, type) -> None:\n",
    "        super().__init__()\n",
    "        self.type = type\n",
    "\n",
    "    def write(self):\n",
    "        return self.type\n",
    "        \n",
    "\n",
    "class NodePointer(Node):\n",
    "    def __init__(self, n):\n",
    "        self.ptr = n\n",
    "    \n",
    "    def write(self):\n",
    "        return \"Pointer to {}\".format(self.ptr.write())\n"
   ]
  },
  {
   "cell_type": "code",
   "execution_count": 4,
   "metadata": {},
   "outputs": [
    {
     "name": "stdout",
     "output_type": "stream",
     "text": [
      "entero\n"
     ]
    }
   ],
   "source": [
    "entero = NodeType('entero')\n",
    "print(entero.write())"
   ]
  }
 ],
 "metadata": {
  "interpreter": {
   "hash": "919c7ce7a74021c6cd98257225c7c731a5c39ce25eb8800a5dd524e2eb8700bf"
  },
  "kernelspec": {
   "display_name": "Python 3.8.10  ('.env': venv)",
   "name": "python3"
  },
  "language_info": {
   "codemirror_mode": {
    "name": "ipython",
    "version": 3
   },
   "file_extension": ".py",
   "mimetype": "text/x-python",
   "name": "python",
   "nbconvert_exporter": "python",
   "pygments_lexer": "ipython3",
   "version": "3.8.10"
  },
  "orig_nbformat": 4
 },
 "nbformat": 4,
 "nbformat_minor": 2
}