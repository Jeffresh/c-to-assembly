{
 "cells": [
  {
   "cell_type": "markdown",
   "metadata": {},
   "source": [
    "# Calculator Bool Exam\n",
    "\n",
    "|Entrada| Salida |\n",
    "|:-:|:-:|\n",
    "|x := 2;||\n",
    "|print x;|Resultado es verdadero|\n",
    "|y := 0 and x; | |\n",
    "|print nor y;| Resultado es verdadero|\n",
    "|print x and not y;| Resultado es verdader|\n",
    "|print not (x and not y) ; | Resultado es falso |\n",
    "| x:= not x; | |\n",
    "|z:= true or not (x and not y); ||\n",
    "|w := (3 > 5)  and (z < 4);||\n",
    "|print 4 == (w < 3);| Resultado es falso |\n",
    "\n"
   ]
  }
 ],
 "metadata": {
  "language_info": {
   "name": "python",
   "nbconvert_exporter": "python"
  },
  "orig_nbformat": 4
 },
 "nbformat": 4,
 "nbformat_minor": 2
}