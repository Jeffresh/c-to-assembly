{
 "cells": [
  {
   "cell_type": "markdown",
   "metadata": {},
   "source": [
    "# Calculator Lexer - Parser"
   ]
  },
  {
   "cell_type": "markdown",
   "metadata": {},
   "source": [
    "## \n",
    "\n",
    "| Sintactic rules | Semantics rules |\n",
    "| :-: | :-: |\n",
    "| input -> input expr ; | Escribe(expr.s) |\n",
    "| input -> $\\epsilon$ | |\n",
    "| expr -> $expr_1$ `+` sum | $expr.s = expr_1.s + sum.s$ |\n",
    "| expr -> $expr_1$ `-` sum | $expr.s = expr_1.s - sum.s$ |\n",
    "| expr -> sum |  expr.s = sum.s|\n",
    "| sum -> $sum_1 `*` fact$ | $sum.s = sum_1.s * fact.s$ |\n",
    "| sum -> $sum_1 `/` fact$ | $sum.s = sum_1.s / fact.s$ |\n",
    "| sum -> fact | sum.s = fact.s|\n",
    "| fact -> $- fact_1$ | fact.s = $- fact_1.s $|\n",
    "| fact -> NUM | fact.s = NUM.lexval |\n",
    "| fact -> `(` expr `)` | fact.s = expr.s |"
   ]
  },
  {
   "cell_type": "code",
   "execution_count": 2,
   "metadata": {},
   "outputs": [],
   "source": [
    "from sly import Lexer, Parser"
   ]
  }
 ],
 "metadata": {
  "interpreter": {
   "hash": "919c7ce7a74021c6cd98257225c7c731a5c39ce25eb8800a5dd524e2eb8700bf"
  },
  "kernelspec": {
   "display_name": "Python 3.8.10  ('.env': venv)",
   "name": "python3"
  },
  "language_info": {
   "codemirror_mode": {
    "name": "ipython",
    "version": 3
   },
   "file_extension": ".py",
   "mimetype": "text/x-python",
   "name": "python",
   "nbconvert_exporter": "python",
   "pygments_lexer": "ipython3",
   "version": "3.8.10"
  },
  "orig_nbformat": 4
 },
 "nbformat": 4,
 "nbformat_minor": 2
}