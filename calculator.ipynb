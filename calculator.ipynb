{
 "cells": [
  {
   "cell_type": "markdown",
   "metadata": {},
   "source": [
    "# Calculator Lexer - Parser"
   ]
  },
  {
   "cell_type": "markdown",
   "metadata": {},
   "source": [
    "## \n",
    "\n",
    "| Sintactic rules | Semantics rules |\n",
    "| :-: | :-: |\n",
    "| sentence -> sentence exprID ; | Escribe(sentence.s exprID.s;) |\n",
    "| sentence -> sentence ID;| $table[ID.lexval] = 0$ |\n",
    "| sentence -> expr;| $Escribe(expr.s)$ |\n",
    "| sentence -> $\\epsilon$ | |\n",
    "| exprID -> $exprID_1$ `ID` `=` $expr$ | $exprID.s = table[ID.lexval] = expr.s |\n",
    "| exprID ->$\\epsilon$ | |\n",
    "| expr -> $expr_1$ `+` sum | $expr.s = expr_1.s + sum.s$ |\n",
    "| expr -> $expr_1$ `-` sum | $expr.s = expr_1.s - sum.s$ |\n",
    "| expr -> sum |  expr.s = sum.s|\n",
    "| sum -> $sum_1 `*` fact$ | $sum.s = sum_1.s * fact.s$ |\n",
    "| sum -> $sum_1 `/` fact$ | $sum.s = sum_1.s / fact.s$ |\n",
    "| sum -> fact | sum.s = fact.s|\n",
    "| fact -> $- fact_1$ | fact.s = $- fact_1.s $|\n",
    "| fact -> ID| fact.s = $table[ID.lexval]$\n",
    "| fact -> NUM | fact.s = NUM.lexval |\n",
    "| fact -> `(` expr `)` | fact.s = expr.s |"
   ]
  },
  {
   "cell_type": "code",
   "execution_count": 1,
   "metadata": {},
   "outputs": [],
   "source": [
    "from sly import Lexer, Parser\n",
    "import pandas as pd\n",
    "import sys"
   ]
  },
  {
   "cell_type": "code",
   "execution_count": 7,
   "metadata": {},
   "outputs": [],
   "source": [
    "class CalcLexer(Lexer):\n",
    "    # set of tokens\n",
    "    tokens = {\n",
    "        'ID', 'CNUM'\n",
    "    }\n",
    "    # set of literals\n",
    "    literals = {\n",
    "        '+', '-', '*', '/', '(', ')', ';'\n",
    "    }\n",
    "\n",
    "    # ignore\n",
    "    ignore = ' \\t'\n",
    "\n",
    "    # tokens\n",
    "    ID = r'[a-zA-Z_][a-zA-Z-0-9_]*'\n",
    "    \n",
    "\n",
    "    \n",
    "    # special case \n",
    "    @_(r'\\d+')\n",
    "    def CNUM(self, t):\n",
    "        t.value = int(t.value)\n",
    "        return t\n",
    "\n",
    "    def error(self, t):\n",
    "        print('<-'*10, \"Illegal character '{}' \".format(t.value[0], '->'*10))\n",
    "        t.type = \"Illegal\"\n",
    "        t.value = t.value[0]\n",
    "        self.index += 1\n",
    "        return t"
   ]
  },
  {
   "cell_type": "code",
   "execution_count": 3,
   "metadata": {},
   "outputs": [
    {
     "data": {
      "text/html": [
       "<div>\n",
       "<style scoped>\n",
       "    .dataframe tbody tr th:only-of-type {\n",
       "        vertical-align: middle;\n",
       "    }\n",
       "\n",
       "    .dataframe tbody tr th {\n",
       "        vertical-align: top;\n",
       "    }\n",
       "\n",
       "    .dataframe thead th {\n",
       "        text-align: right;\n",
       "    }\n",
       "</style>\n",
       "<table border=\"1\" class=\"dataframe\">\n",
       "  <thead>\n",
       "    <tr style=\"text-align: right;\">\n",
       "      <th></th>\n",
       "      <th>operators</th>\n",
       "    </tr>\n",
       "  </thead>\n",
       "  <tbody>\n",
       "    <tr>\n",
       "      <th>0</th>\n",
       "      <td>4 + 4;</td>\n",
       "    </tr>\n",
       "    <tr>\n",
       "      <th>1</th>\n",
       "      <td>5 - 5;</td>\n",
       "    </tr>\n",
       "    <tr>\n",
       "      <th>2</th>\n",
       "      <td>(5 * 7) + 5 - 78 / 4 + (6 - 7 ) * 2;</td>\n",
       "    </tr>\n",
       "  </tbody>\n",
       "</table>\n",
       "</div>"
      ],
      "text/plain": [
       "                              operators\n",
       "0                                4 + 4;\n",
       "1                                5 - 5;\n",
       "2  (5 * 7) + 5 - 78 / 4 + (6 - 7 ) * 2;"
      ]
     },
     "execution_count": 3,
     "metadata": {},
     "output_type": "execute_result"
    }
   ],
   "source": [
    "data = pd.read_csv('assets\\operators.csv')\n",
    "data"
   ]
  },
  {
   "cell_type": "code",
   "execution_count": 4,
   "metadata": {},
   "outputs": [
    {
     "name": "stdout",
     "output_type": "stream",
     "text": [
      "--------------------------------------------------------------------------------\n",
      "0 Lexically Testing sentence: '4 + 4;'\n",
      "--------------------------------------------------------------------------------\n",
      " type = 'CNUM', value = '4'\n",
      " type = '+', value = '+'\n",
      " type = 'CNUM', value = '4'\n",
      " type = ';', value = ';'\n",
      "--------------------------------------------------------------------------------\n",
      "1 Lexically Testing sentence: '5 - 5;'\n",
      "--------------------------------------------------------------------------------\n",
      " type = 'CNUM', value = '5'\n",
      " type = '-', value = '-'\n",
      " type = 'CNUM', value = '5'\n",
      " type = ';', value = ';'\n",
      "--------------------------------------------------------------------------------\n",
      "2 Lexically Testing sentence: '(5 * 7) + 5 - 78 / 4 + (6 - 7 ) * 2;'\n",
      "--------------------------------------------------------------------------------\n",
      " type = '(', value = '('\n",
      " type = 'CNUM', value = '5'\n",
      " type = '*', value = '*'\n",
      " type = 'CNUM', value = '7'\n",
      " type = ')', value = ')'\n",
      " type = '+', value = '+'\n",
      " type = 'CNUM', value = '5'\n",
      " type = '-', value = '-'\n",
      " type = 'CNUM', value = '78'\n",
      " type = '/', value = '/'\n",
      " type = 'CNUM', value = '4'\n",
      " type = '+', value = '+'\n",
      " type = '(', value = '('\n",
      " type = 'CNUM', value = '6'\n",
      " type = '-', value = '-'\n",
      " type = 'CNUM', value = '7'\n",
      " type = ')', value = ')'\n",
      " type = '*', value = '*'\n",
      " type = 'CNUM', value = '2'\n",
      " type = ';', value = ';'\n"
     ]
    }
   ],
   "source": [
    "lexer = CalcLexer()\n",
    "sentences = pd.read_csv('assets\\operators.csv').operators\n",
    "pass_or_not = []\n",
    "all_token_pass = True\n",
    "\n",
    "for index, sentence in enumerate(sentences):\n",
    "    print('-' * 80,\"{} Lexically Testing sentence: '{}'\".format(index, sentence),'-' * 80, sep='\\n')\n",
    "    for token in lexer.tokenize(sentence):\n",
    "        print(\" type = '{}', value = '{}'\".format(token.type, token.value))\n",
    "        if all_token_pass and 'Illegal' in token.type:\n",
    "            all_token_pass = False\n",
    "    \n",
    "    pass_or_not.append('Pass') if all_token_pass else pass_or_not.append('FAIL')\n",
    "    all_token_pass = True\n",
    "\n",
    "data['Test'] = pass_or_not"
   ]
  },
  {
   "cell_type": "markdown",
   "metadata": {},
   "source": [
    "## Parser"
   ]
  },
  {
   "cell_type": "code",
   "execution_count": 5,
   "metadata": {},
   "outputs": [],
   "source": [
    "class CalcParser(Parser):\n",
    "    tokens = CalcLexer.tokens\n",
    "    lexval = {}\n",
    "\n",
    "    @_('input expr \";\"')\n",
    "    def input(self, p):\n",
    "        print(\"{} {} ;\".format(p.input, p.expr))\n",
    "    \n",
    "    @_('empty')\n",
    "    def input(self, p):\n",
    "        return ''\n",
    "\n",
    "    @_('')\n",
    "    def empty(self, p):\n",
    "        pass\n",
    "\n",
    "    @_('expr \"+\" sum')\n",
    "    def expr(self, p):\n",
    "        return p.expr + p.sum\n",
    "    @_('expr \"-\" sum')\n",
    "    def expr(self, p):\n",
    "        return p.expr - p.sum\n",
    "\n",
    "    @_(\"sum\")\n",
    "    def expr(self, p):\n",
    "        return p.sum\n",
    "    \n",
    "    @_('sum \"*\" prod')\n",
    "    def sum(self, p):\n",
    "        return p.sum * p.prod\n",
    "    \n",
    "    @_('sum \"/\" prod')\n",
    "    def sum(self, p):\n",
    "        if p.prod != 0:\n",
    "            return p.sum / p.prod\n",
    "        raise ZeroDivisionError\n",
    "    \n",
    "    @_('prod')\n",
    "    def sum(self, p):\n",
    "        return p.prod\n",
    "    \n",
    "    @_(' \"-\" prod')\n",
    "    def prod(self, p ):\n",
    "        return - p.prod\n",
    "    \n",
    "    @_('CNUM')\n",
    "    def prod(self, p):\n",
    "        return p.CNUM\n",
    "    \n",
    "    @_(' \"(\" expr \")\" ')\n",
    "    def prod(self, p):\n",
    "        return p.expr"
   ]
  },
  {
   "cell_type": "markdown",
   "metadata": {},
   "source": [
    "## Testing parser"
   ]
  },
  {
   "cell_type": "code",
   "execution_count": 6,
   "metadata": {},
   "outputs": [
    {
     "name": "stdout",
     "output_type": "stream",
     "text": [
      "Sentence: '4 + 4;'\n",
      " 8 ;\n",
      "Sentence: '5 - 5;'\n",
      " 0 ;\n",
      "Sentence: '(5 * 7) + 5 - 78 / 4 + (6 - 7 ) * 2;'\n",
      " 18.5 ;\n"
     ]
    }
   ],
   "source": [
    "if __name__ == '__main__':\n",
    "    lexer = CalcLexer()\n",
    "    parser = CalcParser()\n",
    "\n",
    "    sentences = pd.read_csv('assets\\operators.csv').operators\n",
    "\n",
    "    for sentence in sentences:\n",
    "        print(\"Sentence: '{}'\".format(sentence))\n",
    "        parser.parse(lexer.tokenize(sentence))\n",
    "    \n"
   ]
  }
 ],
 "metadata": {
  "interpreter": {
   "hash": "919c7ce7a74021c6cd98257225c7c731a5c39ce25eb8800a5dd524e2eb8700bf"
  },
  "kernelspec": {
   "display_name": "Python 3.8.10  ('.env': venv)",
   "name": "python3"
  },
  "language_info": {
   "codemirror_mode": {
    "name": "ipython",
    "version": 3
   },
   "file_extension": ".py",
   "mimetype": "text/x-python",
   "name": "python",
   "nbconvert_exporter": "python",
   "pygments_lexer": "ipython3",
   "version": "3.8.10"
  },
  "orig_nbformat": 4
 },
 "nbformat": 4,
 "nbformat_minor": 2
}