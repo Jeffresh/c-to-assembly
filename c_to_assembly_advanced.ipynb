{
 "cells": [
  {
   "cell_type": "markdown",
   "metadata": {},
   "source": [
    "# Exercises Advanced: C to Assembly\n",
    "\n",
    "Exercises of advanced C to Assembly, using loops and if statements."
   ]
  }
 ],
 "metadata": {
  "interpreter": {
   "hash": "3a682bb36f7d5a7672b2d733006b37b2d8aca078566e2b1120c995bec970a554"
  },
  "kernelspec": {
   "display_name": "Python 3.8.10 64-bit (windows store)",
   "name": "python3"
  },
  "language_info": {
   "name": "python",
   "version": ""
  },
  "orig_nbformat": 4
 },
 "nbformat": 4,
 "nbformat_minor": 2
}