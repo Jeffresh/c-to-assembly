{
 "cells": [
  {
   "cell_type": "markdown",
   "metadata": {},
   "source": [
    "# Exercises Advanced: C to Assembly\n",
    "\n",
    "Exercises of advanced C to Assembly, using loops and if statements."
   ]
  },
  {
   "cell_type": "markdown",
   "metadata": {},
   "source": [
    "## Exercise 1 "
   ]
  },
  {
   "cell_type": "markdown",
   "metadata": {},
   "source": [
    "### C code:\n",
    "\n",
    "```c\n",
    "/******** factorial recursivo ********/\n",
    "#include <stdio.h>\n",
    "int m;\n",
    "\n",
    "int fact(int n) {\n",
    "    if (n <= 1)\n",
    "        return 1;\n",
    "    else\n",
    "        return n * fact(n-1);\n",
    "    } // fin de fact()\n",
    "\n",
    "int main(int argc, char* argv[]) {\n",
    "    int n;printf(\"Teclea un entero\\n\");\n",
    "    scanf(\"%d\", &n);\n",
    "    m = fact(n);\n",
    "    printf(\"El factorial de %d = %d\\n\", n, m);\n",
    "    return 0;\n",
    "} // fin de main()\n",
    "```"
   ]
  },
  {
   "cell_type": "markdown",
   "metadata": {},
   "source": [
    "### Activation Framework: Main"
   ]
  },
  {
   "cell_type": "markdown",
   "metadata": {},
   "source": [
    "|Activation Framework: Main| Posición | Responsabilidad |\n",
    "|:-:|:-:|:-:|\n",
    "|argv| 12 + ebp| caller |\n",
    "|argc| 8 + ebp| caller|\n",
    "|Return Address| 4 + ebp| caller|\n",
    "|Dynamic Link| ebp | main|\n",
    "|n | 4 - ebp | main |"
   ]
  },
  {
   "cell_type": "markdown",
   "metadata": {},
   "source": [
    "```s\n",
    "# Prólogo\n",
    "pushl %ebp\n",
    "movl %esp , %ebp\n",
    "subl $4, %esp\n",
    "\n",
    "# printf(\"Teclea un entero\\n);\n",
    "pushl $s0\n",
    "call printf\n",
    "addl $4, %esp\n",
    "\n",
    "#scanf(\"%d\", &n);\n",
    "leal -4(%ebp), %eax\n",
    "pushl %eax\n",
    "pushl $s1\n",
    "call scanf\n",
    "addl $8, %esp\n",
    "\n",
    "#m = fact(n);\n",
    "\n",
    "pushl -4(%ebp)\n",
    "call fact\n",
    "addl $4, %esp\n",
    "movl %eax, m\n",
    "\n",
    "#printf(\"El factorial de %d = %d\\n\", n , m);\n",
    "pushl m\n",
    "pushl -4(%ebp)\n",
    "pushl $s2\n",
    "call printf\n",
    "addl $12, %esp\n",
    "\n",
    "#epílogo\n",
    "movl $0, %eax\n",
    "movl %ebp, %esp\n",
    "popl %ebp\n",
    "ret\n",
    "```"
   ]
  },
  {
   "cell_type": "markdown",
   "metadata": {},
   "source": [
    "### Activation Frame: Fact\n",
    "|Activation Framework: Fact| Posición | Responsabilidad |\n",
    "|:-:|:-:|:-:|\n",
    "| n | 8 + ebp | main |\n",
    "| Return Address | 4 + ebp | main |\n",
    "| Dynamic Link | ebp | main |\n",
    "\n"
   ]
  },
  {
   "cell_type": "markdown",
   "metadata": {},
   "source": [
    "```c\n",
    "# prólogo\n",
    "pushl %ebp\n",
    "movl %esp, %ebp\n",
    "\n",
    "movl 8(%ebp), %eax\n",
    "cmp $1, %eax\n",
    "lg L2\n",
    "movl $1, %eax\n",
    "jmp L1\n",
    "\n",
    "L2: \n",
    "    movl 8(%ebp), %eax\n",
    "    subl $1, %eax\n",
    "    pushl %eax\n",
    "    call fact\n",
    "    addl $4, %esp\n",
    "    movl %eax, %ebx\n",
    "    movl 8(%ebp), %eax\n",
    "    imull %ebx, %eax\n",
    "\n",
    "L1:\n",
    "    movl %ebp, %esp\n",
    "    popl %ebp\n",
    "    ret\n",
    "```"
   ]
  },
  {
   "cell_type": "markdown",
   "metadata": {},
   "source": [
    "## Exercise 2"
   ]
  },
  {
   "cell_type": "markdown",
   "metadata": {},
   "source": [
    "```c\n",
    "/******** mayor de tres numeros ********/\n",
    "#include <stdio.h>\n",
    "int a, b, c;\n",
    "int main(int argc, char* argv[]) {\n",
    "    int mayor;\n",
    "    printf(\"Teclea tres enteros: \");\n",
    "    scanf(\"%d%d%d\", &a, &b, &c);\n",
    "    if (a >= b && a >= c)\n",
    "    mayor = a;\n",
    "    else if (b >= a && b >= c)\n",
    "    mayor = b;\n",
    "    else\n",
    "    mayor = c;\n",
    "    printf(\"El mayor es %d = %d\\n\", mayor);\n",
    "    return 0;\n",
    "} // fin de main()\n",
    "```"
   ]
  },
  {
   "cell_type": "markdown",
   "metadata": {},
   "source": [
    "### Activation Framework\n",
    "\n",
    "|Activation framework: Main| Posición | Responsabilidad |\n",
    "|:-:|:-:|:-:|\n",
    "|argv| ebp + 12 | caller |\n",
    "|argc| ebp + 8 | caller |\n",
    "|Return address| ebp + 4 | caller |\n",
    "|Dynamic Link | ebp | main |\n",
    "|mayor | ebp - 4| main |"
   ]
  },
  {
   "cell_type": "markdown",
   "metadata": {},
   "source": [
    "### Assembly Code"
   ]
  },
  {
   "cell_type": "markdown",
   "metadata": {},
   "source": [
    "```a\n",
    "    # prólogo\n",
    "    push %ebp\n",
    "    movl %esp, %ebp\n",
    "    subl $4, %esp\n",
    "\n",
    "    # printf(\"Teclea tres enteros: );\n",
    "\n",
    "    pushl $s0\n",
    "    call printf\n",
    "    addl $4, %esp\n",
    "\n",
    "    # scanf(\"%d%d%d\", &a, &b, &c);\n",
    "\n",
    "    pushl c\n",
    "    pushl b\n",
    "    pushl a\n",
    "    pushl $s1\n",
    "    call scanf\n",
    "    addl $16, %esp\n",
    "\n",
    "    movl a, %eax\n",
    "    movl b, %ebx\n",
    "    movl c, %ecx\n",
    "\n",
    "    cmp %ebx, %eax\n",
    "    jl L2\n",
    "    cmp %ecx, %eax\n",
    "    jl L2\n",
    "    movl %eax, -4(%ebp)\n",
    "\n",
    "    L2 :\n",
    "        cmp %eax, %ebx\n",
    "        jl L3\n",
    "        cmp %ecx, %ebx\n",
    "        jl L3\n",
    "        movl b, -4(%ebp)\n",
    "    \n",
    "    L3:\n",
    "        movl c, -4(%ebp)\n",
    "    \n",
    "    #printf(\"El mayor es %d = %d \\n\", mayor)\n",
    "    pushl -4(%ebp)\n",
    "    pushl $s2\n",
    "    call printf\n",
    "    addl $8, %esp\n",
    "\n",
    "\n",
    "    #prólogo\n",
    "    movl $0, %eax\n",
    "    movl %ebp, %esp\n",
    "    popl %ebp\n",
    "\n",
    "    ret\n",
    "\n",
    "```"
   ]
  },
  {
   "cell_type": "markdown",
   "metadata": {},
   "source": [
    "## Exercise 3"
   ]
  },
  {
   "cell_type": "markdown",
   "metadata": {},
   "source": [
    "```c\n",
    "#include <stdio.h>\n",
    "int y;\n",
    "\n",
    "int mcd(int a, int b)\n",
    "{\n",
    "    int resto;\n",
    "    while (b != 0)\n",
    "    {\n",
    "        resto = a % b;\n",
    "        a = b;\n",
    "        b = resto;\n",
    "    }\n",
    "    return a;\n",
    "}\n",
    "\n",
    "main()\n",
    "{\n",
    "    int x;\n",
    "    printf(\"introduce dos enteros :\");\n",
    "    scanf(\"%d%d\", &x, &y);\n",
    "    printf(\"El mcd de %d y %d vale %d\\n\", x, y, mcd(x, y));\n",
    "}\n",
    "```"
   ]
  },
  {
   "cell_type": "markdown",
   "metadata": {},
   "source": [
    "### Activation Framework: mcd"
   ]
  },
  {
   "cell_type": "markdown",
   "metadata": {},
   "source": [
    "| Activation Framework: mcd | Posición | Responsabilidad |\n",
    "|:-:|:-:|:-:|\n",
    "| b | 12 + ebp | main |\n",
    "| a | 8 + ebp | main |\n",
    "| Return address| 4 + ebp | main |\n",
    "| Dynamic Link | ebp | mcd |\n",
    "| resto | 4 - ebp | mcd |"
   ]
  },
  {
   "cell_type": "markdown",
   "metadata": {},
   "source": [
    "### Assembly Code: mcd"
   ]
  },
  {
   "cell_type": "markdown",
   "metadata": {},
   "source": [
    "```a\n",
    "# Prólogo\n",
    "\n",
    "pushl %ebp\n",
    "movl %esp, %ebp\n",
    "subl $4, %esp\n",
    "\n",
    "L1: \n",
    "    cmp $0, b\n",
    "    je L2\n",
    "\n",
    "movl a, %eax\n",
    "movl b, %ebx\n",
    "cdq\n",
    "idvl %ebx\n",
    "movl %edx, %eax\n",
    "movl %eax, -4(%ebp)\n",
    "movl a, b\n",
    "movl -4(%ebp), b\n",
    "jmp L1\n",
    "\n",
    "L2:\n",
    "    movl a, %eax\n",
    "    movl %ebp, %esp\n",
    "    popl %ebp\n",
    "    ret\n",
    "```\n"
   ]
  },
  {
   "cell_type": "markdown",
   "metadata": {},
   "source": [
    "```a\n",
    "\n",
    "```"
   ]
  }
 ],
 "metadata": {
  "interpreter": {
   "hash": "3a682bb36f7d5a7672b2d733006b37b2d8aca078566e2b1120c995bec970a554"
  },
  "kernelspec": {
   "display_name": "Python 3.8.10 64-bit (windows store)",
   "name": "python3"
  },
  "language_info": {
   "name": "python",
   "version": ""
  },
  "orig_nbformat": 4
 },
 "nbformat": 4,
 "nbformat_minor": 2
}