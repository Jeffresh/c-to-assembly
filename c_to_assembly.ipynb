{
 "cells": [
  {
   "cell_type": "markdown",
   "metadata": {},
   "source": [
    "# Exercises "
   ]
  },
  {
   "cell_type": "markdown",
   "metadata": {},
   "source": [
    "## Exercise 1"
   ]
  },
  {
   "cell_type": "markdown",
   "metadata": {},
   "source": [
    "```c\n",
    "int h2;\n",
    "int pitagoras(int c1, int c2) {\n",
    "    int temp, temp1, temp2;\n",
    "    temp1 = c1 * c1;\n",
    "    temp2 = c2 * c2;\n",
    "    temp = temp1 + temp2;\n",
    "    return temp;\n",
    "} // fin de pitagoras()\n",
    "\n",
    "int main() {\n",
    "    int a, b;\n",
    "    printf(\"teclea dos numeros : \");\n",
    "    scanf(\"%d%d\", &a, &b);\n",
    "    h2 = pitagoras(a,b);\n",
    "    printf(\"La hipotenusa es %d\\n\", h2);\n",
    "    return 0;\n",
    "} // fin de main()\n",
    "```\n"
   ]
  },
  {
   "cell_type": "markdown",
   "metadata": {},
   "source": [
    "## Activation Frameworks"
   ]
  },
  {
   "cell_type": "markdown",
   "metadata": {},
   "source": [
    "|Framework : Main   |          | Resposability  |\n",
    "|:-:|:-:|:-:|\n",
    "| Main parameters  |   | caller  |\n",
    "|Return Address    | 4 + ebp  | caller  |\n",
    "| Dynamic Link     | ebp  | main  |\n",
    "| a     | 4 - epb  | main  |\n",
    "| b     | 8 - epb  |  main |"
   ]
  },
  {
   "cell_type": "markdown",
   "metadata": {},
   "source": [
    "|Framework : Pitagoras   |          | Resposability  |\n",
    "|:-:|:-:|:-:|\n",
    "| c2 | 12 + ebp   | main  |\n",
    "| c1 | 8 + ebp   | main  |\n",
    "|Return Address    | 4 + ebp  | main  |\n",
    "| Dynamic Link     | ebp  | pitagoras  |\n",
    "| temp     | 4 - ebp  | pitagoras  |\n",
    "| temp1     | 8 - ebp  |  pitagoras |\n",
    "| temp2     | 12 - ebp  |  pitagoras |"
   ]
  },
  {
   "cell_type": "markdown",
   "metadata": {},
   "source": [
    "### main\n",
    "\n",
    "```a\n",
    "push %ebp\n",
    "movl %esp, %ebp\n",
    "subl $8, %esp\n",
    "\n",
    "pushl $s0\n",
    "call printf\n",
    "addl $4\n",
    "\n",
    "movl $0, %eax\n",
    "\n",
    "movl %ebp, %esp\n",
    "popl %ebp\n",
    "ret\n",
    "```"
   ]
  },
  {
   "cell_type": "markdown",
   "metadata": {},
   "source": [
    "### Pitagoras\n",
    "\n",
    "```a\n",
    "# prólogo\n",
    "pushl %ebp\n",
    "movl %esp, %epb\n",
    "subl $12, %esp\n",
    "\n",
    "# temp1 = c1 * c1\n",
    "movl 8(%ebp), %eax\n",
    "imull 8(%ebp), %eax\n",
    "movl %eax, -8(%ebp)\n",
    "\n",
    "# temp2 = c2 * c2\n",
    "movl 12(%ebp), %eax\n",
    "imull 12(%ebp), %eax\n",
    "movl %eax, -12(%ebp)\n",
    "\n",
    "# temp1 = temp1 + temp2\n",
    "movl -8(%ebp), %eax\n",
    "addl -12(%ebp), %eax\n",
    "movl %eax, -4(%ebp)\n",
    "\n",
    "# return value\n",
    "movl -4(%ebp) %eax\n",
    "\n",
    "#epílogo\n",
    "movl %ebp, %esp\n",
    "popl %ebp\n",
    "ret\n",
    "```"
   ]
  }
 ],
 "metadata": {
  "interpreter": {
   "hash": "3a682bb36f7d5a7672b2d733006b37b2d8aca078566e2b1120c995bec970a554"
  },
  "kernelspec": {
   "display_name": "Python 3.8.10 64-bit (windows store)",
   "name": "python3"
  },
  "language_info": {
   "name": "python",
   "version": ""
  },
  "orig_nbformat": 4
 },
 "nbformat": 4,
 "nbformat_minor": 2
}