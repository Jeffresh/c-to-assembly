{
 "cells": [
  {
   "cell_type": "markdown",
   "metadata": {},
   "source": [
    "# Exercises: C to Assembler\n",
    "\n",
    "Exercises of basic c sentences (arithmetic operations, calling functions, and input output c functions)"
   ]
  },
  {
   "cell_type": "markdown",
   "metadata": {},
   "source": [
    "## Exercise 1"
   ]
  },
  {
   "cell_type": "markdown",
   "metadata": {},
   "source": [
    "```c\n",
    "int h2;\n",
    "int pitagoras(int c1, int c2) {\n",
    "    int temp, temp1, temp2;\n",
    "    temp1 = c1 * c1;\n",
    "    temp2 = c2 * c2;\n",
    "    temp = temp1 + temp2;\n",
    "    return temp;\n",
    "} // fin de pitagoras()\n",
    "\n",
    "int main() {\n",
    "    int a, b;\n",
    "    printf(\"teclea dos numeros : \");\n",
    "    scanf(\"%d%d\", &a, &b);\n",
    "    h2 = pitagoras(a,b);\n",
    "    printf(\"La hipotenusa es %d\\n\", h2);\n",
    "    return 0;\n",
    "} // fin de main()\n",
    "```\n"
   ]
  },
  {
   "cell_type": "markdown",
   "metadata": {},
   "source": [
    "## Activation Frameworks"
   ]
  },
  {
   "cell_type": "markdown",
   "metadata": {},
   "source": [
    "|Framework : Main   |          | Resposability  |\n",
    "|:-:|:-:|:-:|\n",
    "| Main parameters  |   | caller  |\n",
    "|Return Address    | 4 + ebp  | caller  |\n",
    "| Dynamic Link     | ebp  | main  |\n",
    "| a     | 4 - epb  | main  |\n",
    "| b     | 8 - epb  |  main |"
   ]
  },
  {
   "cell_type": "markdown",
   "metadata": {},
   "source": [
    "|Framework : Pitagoras   |          | Resposability  |\n",
    "|:-:|:-:|:-:|\n",
    "| c2 | 12 + ebp   | main  |\n",
    "| c1 | 8 + ebp   | main  |\n",
    "|Return Address    | 4 + ebp  | main  |\n",
    "| Dynamic Link     | ebp  | pitagoras  |\n",
    "| temp     | 4 - ebp  | pitagoras  |\n",
    "| temp1     | 8 - ebp  |  pitagoras |\n",
    "| temp2     | 12 - ebp  |  pitagoras |"
   ]
  },
  {
   "cell_type": "markdown",
   "metadata": {},
   "source": [
    "### main\n",
    "\n",
    "````a\n",
    "#prologo\n",
    "push %ebp\n",
    "movl %esp, %ebp\n",
    "subl $8, %esp\n",
    "\n",
    "# printf(\"teclea dos numeros:);\n",
    "pushl $s0\n",
    "call printf\n",
    "addl $4, %esp\n",
    "\n",
    "#scanf(\"%d%d\", &a, &b);\n",
    "leal -8(%ebp), %eax\n",
    "pushl %eax\n",
    "leal -4(%ebp), %eax\n",
    "pushl %eax\n",
    "pushl $s1\n",
    "call scanf\n",
    "addl $12, %esp\n",
    "\n",
    "#h2 = pitagoras(a, b);\n",
    "pushl -8(%ebp)\n",
    "pushl -4(%ebp)\n",
    "call pitagoras\n",
    "addl $8, %esp\n",
    "movl %eax, h2\n",
    "\n",
    "#printf(\"La hipotenusa es %d\\n\", h2)\n",
    "pushl h2\n",
    "pushl $s3\n",
    "call printf\n",
    "addl $8, %esp\n",
    "\n",
    "#ret value\n",
    "movl $0, %eax\n",
    "\n",
    "#prólogo\n",
    "movl %ebp, %esp\n",
    "popl %ebp\n",
    "ret\n",
    "````"
   ]
  },
  {
   "cell_type": "markdown",
   "metadata": {},
   "source": [
    "### Pitagoras\n",
    "\n",
    "```a\n",
    "# prólogo\n",
    "pushl %ebp\n",
    "movl %esp, %epb\n",
    "subl $12, %esp\n",
    "\n",
    "# temp1 = c1 * c1\n",
    "movl 8(%ebp), %eax\n",
    "imull 8(%ebp), %eax\n",
    "movl %eax, -8(%ebp)\n",
    "\n",
    "# temp2 = c2 * c2\n",
    "movl 12(%ebp), %eax\n",
    "imull 12(%ebp), %eax\n",
    "movl %eax, -12(%ebp)\n",
    "\n",
    "# temp1 = temp1 + temp2\n",
    "movl -8(%ebp), %eax\n",
    "addl -12(%ebp), %eax\n",
    "movl %eax, -4(%ebp)\n",
    "\n",
    "# return value\n",
    "movl -4(%ebp) %eax\n",
    "\n",
    "#epílogo\n",
    "movl %ebp, %esp\n",
    "popl %ebp\n",
    "ret\n",
    "```"
   ]
  },
  {
   "cell_type": "markdown",
   "metadata": {},
   "source": [
    "## Exercise 2\n",
    "\n",
    "```c\n",
    "int d, t;\n",
    "int velocidad(int d, int t) {\n",
    "    int temp;\n",
    "    temp = d / t;\n",
    "    return temp;\n",
    "} // fin de velocidad()\n",
    "\n",
    "int main() {\n",
    "    int v;\n",
    "    printf(\"teclea dos numeros : \");\n",
    "    scanf(\"%d%d\", &d, &t);\n",
    "    v = velocidad(d, t);\n",
    "    printf(\"La velocidad es %d\\n\", v);\n",
    "    return 0;\n",
    "} // fin de main()\n",
    "```"
   ]
  },
  {
   "cell_type": "markdown",
   "metadata": {},
   "source": [
    "### Activation framework: Velocidad"
   ]
  },
  {
   "cell_type": "markdown",
   "metadata": {},
   "source": [
    "|Framework: Velocidad| Dirección |Responsabilidad|\n",
    "|:-:|:-:|:-:|\n",
    "|t                    |   12 + epb        |main               |\n",
    "|d | 8 + ebp | main |\n",
    "|return address|4 + ebp | main |\n",
    "|Dynamic Link| ebp | velocidad|\n",
    "| temp | 4 - ebp | velocidad |"
   ]
  },
  {
   "cell_type": "markdown",
   "metadata": {},
   "source": [
    "### Assembler code: Velocidad"
   ]
  },
  {
   "cell_type": "markdown",
   "metadata": {},
   "source": [
    "```a\n",
    "\n",
    "#prólogo\n",
    "\n",
    "push %ebp\n",
    "movl %esp, %ebp\n",
    "subl $4, %esp\n",
    "\n",
    "#temp = d/t\n",
    "\n",
    "movl $8, %eax\n",
    "movl $12, %ebx\n",
    "cdq\n",
    "idivl %ebx\n",
    "movl %eax, -4(%ebp)\n",
    "\n",
    "movl -4(%ebp), %eax\n",
    "\n",
    "#epílogo\n",
    "movl %ebp, %esp\n",
    "popl %ebp\n",
    "ret\n",
    "\n",
    "```"
   ]
  },
  {
   "cell_type": "markdown",
   "metadata": {},
   "source": [
    "### Activation Framework: Main"
   ]
  },
  {
   "cell_type": "markdown",
   "metadata": {},
   "source": [
    "|Framework: Main | Dirección |Responsabilidad |\n",
    "|:-:|:-:|:-:|\n",
    "| Return Address | 4 + ebp | caller |\n",
    "| Dynamic Link | ebp | caller |\n",
    "| v | 4 - ebp| main |"
   ]
  },
  {
   "cell_type": "markdown",
   "metadata": {},
   "source": [
    "### Assembler code: Main"
   ]
  },
  {
   "cell_type": "markdown",
   "metadata": {},
   "source": [
    "```a\n",
    "\n",
    "# Prólogo\n",
    "pushl %ebp \n",
    "movl %esp, %ebp\n",
    "subl $4, %esp\n",
    "\n",
    "# printf(\"teclea dos números\");\n",
    "\n",
    "pushl $s3\n",
    "call printf\n",
    "addl $4, %esp\n",
    "\n",
    "# scanf(\"%d%d\", &d, &t);\n",
    "\n",
    "pushl t\n",
    "pushl d\n",
    "push $s4\n",
    "call scanf\n",
    "\n",
    "addl $12, %esp\n",
    "\n",
    "# v = velocidad(d, t);\n",
    "\n",
    "pushl t\n",
    "pushl -4(%ebp)\n",
    "call velocidad\n",
    "addl $8, %esp\n",
    "movl %eax, -4(%ebp)\n",
    "\n",
    "# printf(\"La velocidad es %d\\n\", v);\n",
    "\n",
    "pushl -4(%ebp)\n",
    "pushl $s4\n",
    "call printf\n",
    "addl $8, %esp\n",
    "\n",
    "#prólogo\n",
    "\n",
    "movl $0, %eax\n",
    "\n",
    "movl %epb, %esp\n",
    "popl %epb\n",
    "ret\n",
    "\n",
    "```"
   ]
  },
  {
   "cell_type": "markdown",
   "metadata": {},
   "source": [
    "## Exercise 3"
   ]
  },
  {
   "cell_type": "markdown",
   "metadata": {},
   "source": [
    "### Function porcentaje:\n",
    "\n",
    "```c\n",
    "    int p, pm;\n",
    "    int porcentaje(int t, int n) {\n",
    "    int temp1, temp2;\n",
    "    temp1 = t * n;\n",
    "    temp2 = temp1 / 100;\n",
    "    return temp2;\n",
    "} // fin de porcentaje()\n",
    "```"
   ]
  },
  {
   "cell_type": "markdown",
   "metadata": {},
   "source": [
    "### Activation Framework: porcentaje\n",
    "\n",
    "|Activation Framework: Porcentaje | Posición | Responsabilidad |\n",
    "|:-:|:-:|:-:|\n",
    "| n | 12 + ebp | main |\n",
    "| t | 8 + ebp | main |\n",
    "|Return address| 4 + ebp | main|\n",
    "|Dynamic link | ebp | porcentaje|\n",
    "| temp1 | 4 - ebp | porcentaje |\n",
    "| temp2 | 8 - ebp | porcentaje |\n"
   ]
  },
  {
   "cell_type": "markdown",
   "metadata": {},
   "source": [
    "### Assembler code: Porcentaje"
   ]
  },
  {
   "cell_type": "markdown",
   "metadata": {},
   "source": [
    "```a\n",
    "# prólogo\n",
    "\n",
    "pushl %ebp\n",
    "movl %esp, %ebp\n",
    "subl $8, %esp\n",
    "\n",
    "# temp1 = t * n ;\n",
    "\n",
    "movl 8(%ebp), %eax\n",
    "imull 12(%ebp), %eax\n",
    "movl %eax, -4(%ebp)\n",
    "\n",
    "# temp2 = temp1 / 100;\n",
    "\n",
    "movl -4(%ebp), %eax\n",
    "movl $100, %ebx\n",
    "cqd\n",
    "idvl %ebx\n",
    "movl %eax, -8(%ebp)\n",
    "\n",
    "movl -8(%ebp), %eax\n",
    "\n",
    "movl %ebp, %esp\n",
    "popl %ebp\n",
    "ret\n",
    "\n",
    "```"
   ]
  },
  {
   "cell_type": "markdown",
   "metadata": {},
   "source": [
    "### Función main C:\n",
    "\n",
    "```c\n",
    "int main() {\n",
    "    int h, m, ph;\n",
    "    printf(”Numero de personas : \");\n",
    "    scanf(\"%d\", &p);\n",
    "    printf(”Numero de hombres : \");\n",
    "    scanf(\"%d\", &h);\n",
    "    printf(”Numero de mujeres : \");\n",
    "    scanf(\"%d\", &m);\n",
    "    pm = porcentaje(p, m);\n",
    "    printf(”El porcentaje de mujeres es %d\\n\", pm);\n",
    "    ph = porcentaje(p, h);\n",
    "    printf(”El porcentaje de hombres es %d\\n\", ph);\n",
    "    return 0;\n",
    "} // fin de main()\n",
    "\n",
    "```"
   ]
  },
  {
   "cell_type": "markdown",
   "metadata": {},
   "source": [
    "### Activation Framework: Main"
   ]
  },
  {
   "cell_type": "markdown",
   "metadata": {},
   "source": [
    "|Activation Framework: Main | Posición | Resposabilidad |\n",
    "|:-:|:-:|:-:|\n",
    "|Return address| 4 + ebp| caller |\n",
    "|Dynamic Link| ebp | caller |\n",
    "| h | 4 - ebp | main |\n",
    "| m | 8 - ebp | main |\n",
    "| ph | 12 - ebp | main |"
   ]
  },
  {
   "cell_type": "markdown",
   "metadata": {},
   "source": [
    "### Assembler code: Main"
   ]
  },
  {
   "cell_type": "markdown",
   "metadata": {},
   "source": [
    "```a\n",
    "\n",
    "# prólogo\n",
    "\n",
    "pushl %ebp\n",
    "movl %esp, %ebp\n",
    "subl $12, %esp\n",
    "\n",
    "# printf(\"Numero de personas : );\n",
    "\n",
    "pushl $s0\n",
    "call printf\n",
    "addl $4, %esp\n",
    "\n",
    "#scanf(\"%d\", &p);\n",
    "\n",
    "pushl p\n",
    "pushl $s1\n",
    "call scanf\n",
    "addl $8, %esp\n",
    "\n",
    "# printf(\"Numero de hombres:\");\n",
    "\n",
    "pushl $s2\n",
    "call printf\n",
    "add $4, %esp\n",
    "\n",
    "# scanf(\"%d\", &h);\n",
    "leal -4(%ebp), %eax\n",
    "pushl %eax\n",
    "pushl $s3\n",
    "call scanf\n",
    "addl $8, %esp\n",
    "\n",
    "# printf(\"Numero de mujeres:\");\n",
    "\n",
    "pushl $s4\n",
    "call printf\n",
    "addl $4, %esp\n",
    "\n",
    "# scanf(\"$%d\", &m);\n",
    "\n",
    "leal -8(%ebp), %eax\n",
    "pushl %eax\n",
    "pushl $s5\n",
    "call scanf\n",
    "addl $8, %esp\n",
    "\n",
    "# pm = porcentaje(p, m);\n",
    "\n",
    "pushl -8(%ebp)\n",
    "pushl p\n",
    "call porcentaje\n",
    "addl $8, %esp\n",
    "movl %eax, pm\n",
    "\n",
    "# printf(\"El porcentaje de mujeres es %d\\n\", pm);\n",
    "\n",
    "pushl pm\n",
    "pushl $s6\n",
    "call printf \n",
    "\n",
    "addl $8, %esp\n",
    "\n",
    "# ph = porcentaje(p, h)\n",
    "\n",
    "pushl -4(%ebp)\n",
    "pushl p\n",
    "call porcentaje\n",
    "addl $8, %esp\n",
    "movl %eax, -12(%ebp) \n",
    "\n",
    "# printf(\"El porcentaje de hombres es %d\\n\", ph);\n",
    "\n",
    "pushl -12(%ebp)\n",
    "pushl $s7\n",
    "call printf\n",
    "\n",
    "addl $8, %esp\n",
    "\n",
    "# epílogo\n",
    "\n",
    "movl $0, %eax\n",
    "movl %ebp, %esp\n",
    "popl %epb\n",
    "\n",
    "ret\n",
    "\n",
    "\n",
    "````"
   ]
  }
 ],
 "metadata": {
  "interpreter": {
   "hash": "3a682bb36f7d5a7672b2d733006b37b2d8aca078566e2b1120c995bec970a554"
  },
  "kernelspec": {
   "display_name": "Python 3.8.10 64-bit (windows store)",
   "name": "python3"
  },
  "language_info": {
   "name": "python",
   "version": ""
  },
  "orig_nbformat": 4
 },
 "nbformat": 4,
 "nbformat_minor": 2
}