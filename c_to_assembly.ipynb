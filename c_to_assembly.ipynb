{
 "cells": [
  {
   "cell_type": "markdown",
   "metadata": {},
   "source": [
    "# Exercises "
   ]
  },
  {
   "cell_type": "markdown",
   "metadata": {},
   "source": [
    "## Exercise 1"
   ]
  },
  {
   "cell_type": "markdown",
   "metadata": {},
   "source": [
    "```c\n",
    "int h2;\n",
    "int pitagoras(int c1, int c2) {\n",
    "    int temp, temp1, temp2;\n",
    "    temp1 = c1 * c1;\n",
    "    temp2 = c2 * c2;\n",
    "    temp = temp1 + temp2;\n",
    "    return temp;\n",
    "} // fin de pitagoras()\n",
    "\n",
    "int main() {\n",
    "    int a, b;\n",
    "    printf(\"teclea dos numeros : \");\n",
    "    scanf(\"%d%d\", &a, &b);\n",
    "    h2 = pitagoras(a,b);\n",
    "    printf(\"La hipotenusa es %d\\n\", h2);\n",
    "    return 0;\n",
    "} // fin de main()\n",
    "```\n"
   ]
  },
  {
   "cell_type": "markdown",
   "metadata": {},
   "source": [
    "## Activation Frameworks"
   ]
  },
  {
   "cell_type": "markdown",
   "metadata": {},
   "source": [
    "|Framework : Main   |          | Resposability  |\n",
    "|:-:|:-:|:-:|\n",
    "| Main parameters  |   | caller  |\n",
    "|Return Address    | 4 + ebp  | caller  |\n",
    "| Dynamic Link     | ebp  | main  |\n",
    "| a     | 4 - epb  | main  |\n",
    "| b     | 8 - epb  |  main |"
   ]
  },
  {
   "cell_type": "markdown",
   "metadata": {},
   "source": [
    "|Framework : Pitagoras   |          | Resposability  |\n",
    "|:-:|:-:|:-:|\n",
    "| c2 | 12 + ebp   | main  |\n",
    "| c1 | 8 + ebp   | main  |\n",
    "|Return Address    | 4 + ebp  | main  |\n",
    "| Dynamic Link     | ebp  | pitagoras  |\n",
    "| temp     | 4 - ebp  | pitagoras  |\n",
    "| temp1     | 8 - ebp  |  pitagoras |\n",
    "| temp2     | 12 - ebp  |  pitagoras |"
   ]
  },
  {
   "cell_type": "markdown",
   "metadata": {},
   "source": [
    "### main\n",
    "\n",
    "````a\n",
    "#prologo\n",
    "push %ebp\n",
    "movl %esp, %ebp\n",
    "subl $8, %esp\n",
    "\n",
    "# printf(\"teclea dos numeros:);\n",
    "pushl $s0\n",
    "call printf\n",
    "addl $4, %esp\n",
    "\n",
    "#scanf(\"%d%d\", &a, &b);\n",
    "leal -8(%ebp), %eax\n",
    "pushl %eax\n",
    "leal -4(%ebp), %eax\n",
    "pushl %eax\n",
    "pushl $s1\n",
    "call scanf\n",
    "addl $12, %esp\n",
    "\n",
    "#h2 = pitagoras(a, b);\n",
    "pushl -8(%ebp)\n",
    "pushl -4(%ebp)\n",
    "call pitagoras\n",
    "addl $8, %esp\n",
    "movl %eax, h2\n",
    "\n",
    "#printf(\"La hipotenusa es %d\\n\", h2)\n",
    "pushl h2\n",
    "pushl $s3\n",
    "call printf\n",
    "addl $8, %esp\n",
    "\n",
    "#ret value\n",
    "movl $0, %eax\n",
    "\n",
    "#prólogo\n",
    "movl %ebp, %esp\n",
    "popl %ebp\n",
    "ret\n",
    "````"
   ]
  },
  {
   "cell_type": "markdown",
   "metadata": {},
   "source": [
    "### Pitagoras\n",
    "\n",
    "```a\n",
    "# prólogo\n",
    "pushl %ebp\n",
    "movl %esp, %epb\n",
    "subl $12, %esp\n",
    "\n",
    "# temp1 = c1 * c1\n",
    "movl 8(%ebp), %eax\n",
    "imull 8(%ebp), %eax\n",
    "movl %eax, -8(%ebp)\n",
    "\n",
    "# temp2 = c2 * c2\n",
    "movl 12(%ebp), %eax\n",
    "imull 12(%ebp), %eax\n",
    "movl %eax, -12(%ebp)\n",
    "\n",
    "# temp1 = temp1 + temp2\n",
    "movl -8(%ebp), %eax\n",
    "addl -12(%ebp), %eax\n",
    "movl %eax, -4(%ebp)\n",
    "\n",
    "# return value\n",
    "movl -4(%ebp) %eax\n",
    "\n",
    "#epílogo\n",
    "movl %ebp, %esp\n",
    "popl %ebp\n",
    "ret\n",
    "```"
   ]
  },
  {
   "cell_type": "markdown",
   "metadata": {},
   "source": [
    "## Exercise 2\n",
    "\n",
    "```c\n",
    "int d, t;\n",
    "int velocidad(int d, int t) {\n",
    "    int temp;\n",
    "    temp = d / t;\n",
    "    return temp;\n",
    "} // fin de velocidad()\n",
    "\n",
    "int main() {\n",
    "    int v;\n",
    "    printf(\"teclea dos numeros : \");\n",
    "    scanf(\"%d%d\", &d, &t);\n",
    "    v = velocidad(d, t);\n",
    "    printf(\"La velocidad es %d\\n\", v);\n",
    "    return 0;\n",
    "} // fin de main()\n",
    "```"
   ]
  },
  {
   "cell_type": "markdown",
   "metadata": {},
   "source": [
    "### Activation framework: Velocidad"
   ]
  },
  {
   "cell_type": "markdown",
   "metadata": {},
   "source": [
    "|Framework: Velocidad| Dirección |Responsabilidad|\n",
    "|:-:|:-:|:-:|\n",
    "|t                    |   12 + epb        |main               |\n",
    "|d | 8 + ebp | main |\n",
    "|return address|4 + ebp | main |\n",
    "|Dynamic Link| ebp | velocidad|\n",
    "| temp | 4 - ebp | velocidad |"
   ]
  },
  {
   "cell_type": "markdown",
   "metadata": {},
   "source": [
    "### Assembler code: Velocidad"
   ]
  },
  {
   "cell_type": "markdown",
   "metadata": {},
   "source": [
    "```a\n",
    "\n",
    "#prólogo\n",
    "\n",
    "push %ebp\n",
    "movl %esp, %ebp\n",
    "subl $4, %esp\n",
    "\n",
    "#temp = d/t\n",
    "\n",
    "movl $8, %eax\n",
    "movl $12, %ebx\n",
    "cdq\n",
    "idivl %ebx\n",
    "movl %eax, -4(%ebp)\n",
    "\n",
    "movl -4(%ebp), %eax\n",
    "\n",
    "#epílogo\n",
    "movl %ebp, %esp\n",
    "popl %ebp\n",
    "ret\n",
    "\n",
    "```"
   ]
  },
  {
   "cell_type": "markdown",
   "metadata": {},
   "source": [
    "### Activation Framework: Main"
   ]
  },
  {
   "cell_type": "markdown",
   "metadata": {},
   "source": [
    "|Framework: Main | Dirección |Responsabilidad |\n",
    "|:-:|:-:|:-:|\n",
    "| Return Address | 4 + ebp | caller |\n",
    "| Dynamic Link | ebp | caller |\n",
    "| v | 4 - ebp| main |"
   ]
  },
  {
   "cell_type": "markdown",
   "metadata": {},
   "source": [
    "### Assembler code: Main"
   ]
  },
  {
   "cell_type": "markdown",
   "metadata": {},
   "source": [
    "```a\n",
    "\n",
    "# Prólogo\n",
    "pushl %ebp \n",
    "movl %esp, %ebp\n",
    "subl $4, %esp\n",
    "\n",
    "# printf(\"teclea dos números\");\n",
    "\n",
    "pushl $s3\n",
    "call printf\n",
    "addl $4, %esp\n",
    "\n",
    "# scanf(\"%d%d\", &d, &t);\n",
    "\n",
    "pushl t\n",
    "pushl d\n",
    "push $s4\n",
    "call scanf\n",
    "\n",
    "addl $12, %esp\n",
    "\n",
    "# v = velocidad(d, t);\n",
    "\n",
    "pushl t\n",
    "pushl -4(%ebp)\n",
    "call velocidad\n",
    "addl $8, %esp\n",
    "movl %eax, -4(%ebp)\n",
    "\n",
    "# printf(\"La velocidad es %d\\n\", v);\n",
    "\n",
    "pushl -4(%ebp)\n",
    "pushl $s4\n",
    "call printf\n",
    "addl $8, %esp\n",
    "\n",
    "#prólogo\n",
    "\n",
    "movl $0, %eax\n",
    "\n",
    "movl %epb, %esp\n",
    "popl %epb\n",
    "ret\n",
    "\n",
    "```"
   ]
  }
 ],
 "metadata": {
  "interpreter": {
   "hash": "3a682bb36f7d5a7672b2d733006b37b2d8aca078566e2b1120c995bec970a554"
  },
  "kernelspec": {
   "display_name": "Python 3.8.10 64-bit (windows store)",
   "name": "python3"
  },
  "language_info": {
   "name": "python",
   "version": ""
  },
  "orig_nbformat": 4
 },
 "nbformat": 4,
 "nbformat_minor": 2
}